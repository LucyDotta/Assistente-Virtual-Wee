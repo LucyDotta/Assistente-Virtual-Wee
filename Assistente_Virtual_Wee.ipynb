{
  "nbformat": 4,
  "nbformat_minor": 0,
  "metadata": {
    "colab": {
      "provenance": [],
      "collapsed_sections": [
        "skWS8WM-66Wx"
      ],
      "include_colab_link": true
    },
    "kernelspec": {
      "name": "python3",
      "display_name": "Python 3"
    },
    "language_info": {
      "name": "python"
    }
  },
  "cells": [
    {
      "cell_type": "markdown",
      "metadata": {
        "id": "view-in-github",
        "colab_type": "text"
      },
      "source": [
        "<a href=\"https://colab.research.google.com/github/LucyDotta/Assistente-Virtual-Wee/blob/main/Assistente_Virtual_Wee.ipynb\" target=\"_parent\"><img src=\"https://colab.research.google.com/assets/colab-badge.svg\" alt=\"Open In Colab\"/></a>"
      ]
    },
    {
      "cell_type": "markdown",
      "source": [
        "# Chatbot Local"
      ],
      "metadata": {
        "id": "jf0IM3tQXB8E"
      }
    },
    {
      "cell_type": "markdown",
      "source": [
        "## Configuração Inicial"
      ],
      "metadata": {
        "id": "skWS8WM-66Wx"
      }
    },
    {
      "cell_type": "code",
      "execution_count": 1,
      "metadata": {
        "colab": {
          "base_uri": "https://localhost:8080/"
        },
        "id": "yqkp11geJHP6",
        "outputId": "cb2bd5cd-6149-488c-acb0-2430b8236cbd"
      },
      "outputs": [
        {
          "output_type": "stream",
          "name": "stdout",
          "text": [
            "Requirement already satisfied: google-genai in /usr/local/lib/python3.11/dist-packages (1.15.0)\n",
            "Requirement already satisfied: anyio<5.0.0,>=4.8.0 in /usr/local/lib/python3.11/dist-packages (from google-genai) (4.9.0)\n",
            "Requirement already satisfied: google-auth<3.0.0,>=2.14.1 in /usr/local/lib/python3.11/dist-packages (from google-genai) (2.38.0)\n",
            "Requirement already satisfied: httpx<1.0.0,>=0.28.1 in /usr/local/lib/python3.11/dist-packages (from google-genai) (0.28.1)\n",
            "Requirement already satisfied: pydantic<3.0.0,>=2.0.0 in /usr/local/lib/python3.11/dist-packages (from google-genai) (2.11.4)\n",
            "Requirement already satisfied: requests<3.0.0,>=2.28.1 in /usr/local/lib/python3.11/dist-packages (from google-genai) (2.32.3)\n",
            "Requirement already satisfied: websockets<15.1.0,>=13.0.0 in /usr/local/lib/python3.11/dist-packages (from google-genai) (15.0.1)\n",
            "Requirement already satisfied: typing-extensions<5.0.0,>=4.11.0 in /usr/local/lib/python3.11/dist-packages (from google-genai) (4.13.2)\n",
            "Requirement already satisfied: idna>=2.8 in /usr/local/lib/python3.11/dist-packages (from anyio<5.0.0,>=4.8.0->google-genai) (3.10)\n",
            "Requirement already satisfied: sniffio>=1.1 in /usr/local/lib/python3.11/dist-packages (from anyio<5.0.0,>=4.8.0->google-genai) (1.3.1)\n",
            "Requirement already satisfied: cachetools<6.0,>=2.0.0 in /usr/local/lib/python3.11/dist-packages (from google-auth<3.0.0,>=2.14.1->google-genai) (5.5.2)\n",
            "Requirement already satisfied: pyasn1-modules>=0.2.1 in /usr/local/lib/python3.11/dist-packages (from google-auth<3.0.0,>=2.14.1->google-genai) (0.4.2)\n",
            "Requirement already satisfied: rsa<5,>=3.1.4 in /usr/local/lib/python3.11/dist-packages (from google-auth<3.0.0,>=2.14.1->google-genai) (4.9.1)\n",
            "Requirement already satisfied: certifi in /usr/local/lib/python3.11/dist-packages (from httpx<1.0.0,>=0.28.1->google-genai) (2025.4.26)\n",
            "Requirement already satisfied: httpcore==1.* in /usr/local/lib/python3.11/dist-packages (from httpx<1.0.0,>=0.28.1->google-genai) (1.0.9)\n",
            "Requirement already satisfied: h11>=0.16 in /usr/local/lib/python3.11/dist-packages (from httpcore==1.*->httpx<1.0.0,>=0.28.1->google-genai) (0.16.0)\n",
            "Requirement already satisfied: annotated-types>=0.6.0 in /usr/local/lib/python3.11/dist-packages (from pydantic<3.0.0,>=2.0.0->google-genai) (0.7.0)\n",
            "Requirement already satisfied: pydantic-core==2.33.2 in /usr/local/lib/python3.11/dist-packages (from pydantic<3.0.0,>=2.0.0->google-genai) (2.33.2)\n",
            "Requirement already satisfied: typing-inspection>=0.4.0 in /usr/local/lib/python3.11/dist-packages (from pydantic<3.0.0,>=2.0.0->google-genai) (0.4.0)\n",
            "Requirement already satisfied: charset-normalizer<4,>=2 in /usr/local/lib/python3.11/dist-packages (from requests<3.0.0,>=2.28.1->google-genai) (3.4.2)\n",
            "Requirement already satisfied: urllib3<3,>=1.21.1 in /usr/local/lib/python3.11/dist-packages (from requests<3.0.0,>=2.28.1->google-genai) (2.4.0)\n",
            "Requirement already satisfied: pyasn1<0.7.0,>=0.6.1 in /usr/local/lib/python3.11/dist-packages (from pyasn1-modules>=0.2.1->google-auth<3.0.0,>=2.14.1->google-genai) (0.6.1)\n"
          ]
        }
      ],
      "source": [
        "!pip install google-genai"
      ]
    },
    {
      "cell_type": "code",
      "source": [
        "import os\n",
        "from google.colab import userdata\n",
        "\n",
        "os.environ['GOOGLE_API_KEY'] = userdata.get('GOOGLE_API_KEY')"
      ],
      "metadata": {
        "id": "ZeN782L-NUPT"
      },
      "execution_count": 3,
      "outputs": []
    },
    {
      "cell_type": "code",
      "source": [
        "from google import genai\n",
        "from google.genai import types  # Para criar conteúdos (Content e Part)\n",
        "import textwrap # Para formatar melhor a saída de texto\n",
        "from IPython.display import display, HTML, Markdown # Para exibir texto formatado no Colab\n",
        "import requests # Para fazer requisições HTTP\n",
        "import warnings\n",
        "\n",
        "warnings.filterwarnings(\"ignore\")"
      ],
      "metadata": {
        "id": "uY5lgY1EOOdV"
      },
      "execution_count": 4,
      "outputs": []
    },
    {
      "cell_type": "code",
      "source": [
        "# Função auxiliar para exibir texto formatado em Markdown no Colab\n",
        "def to_markdown(text):\n",
        "  text = text.replace('•', '  *')\n",
        "  return Markdown(textwrap.indent(text, '> ', predicate=lambda _: True))"
      ],
      "metadata": {
        "id": "GFnwgAK-USt3"
      },
      "execution_count": 5,
      "outputs": []
    },
    {
      "cell_type": "markdown",
      "source": [
        "## Configuração Chatbot"
      ],
      "metadata": {
        "id": "f5QMYntwXXQ4"
      }
    },
    {
      "cell_type": "code",
      "source": [
        "MODEL = \"gemini-2.0-flash\"\n",
        "EMPREENDIMENTO = \"MOVA.WF\"\n",
        "\n",
        "client = genai.Client()\n",
        "\n",
        "instruction = f\"\"\"\n",
        "        Você é uma assistente virtual chamada Wee, da incorporadora Weefor.\n",
        "\n",
        "        Sua persona é de uma mulher, simpática e profissional.\n",
        "        Seu linguajar é simples e direto.\n",
        "        O tom de suas respostas é honesto, gentil, direto e científico.\n",
        "        Seu propósito é entreter, educar, vender e informar.\n",
        "\n",
        "        Sua função é responder perguntas sobre o empreendimento {EMPREENDIMENTO}.\n",
        "\n",
        "        A sua tarefas é interpretar a mensagem do lead e identificar qual é sua intenção:\n",
        "        - Se ele fez uma pergunta específica relacionada ao empreendimento,\n",
        "          recupere as informações usando a ferramente de busca do google (google_search)\n",
        "          e prepare uma resposta de acordo com as informações recuperadas.\n",
        "        - Senão, prepare uma resposta com o objetivo de engajar e obter mais informações sobre seus interesses\n",
        "          com relação ao empreendimento e sugerindo assuntos. Utilize informações complementares sobre a\n",
        "          empresa Weefor, se necessário.\n",
        "        Em ambos os casos, independente da intenção, guarde o contexto da conversa e mesmo que\n",
        "        a resposta não tenha uma pergunta específica, continue a conversa, baseado no histórico.\n",
        "\n",
        "        Quando questionado sobre os seguintes assuntos:\n",
        "        - Preços\n",
        "        - Pedido para falar com atentender humano\n",
        "        - Agendar visita\n",
        "        Finalize o atendimento, informando que a conversa irá continuar no mesmo chat,\n",
        "        mas agora com um corretor humano.\n",
        "\n",
        "        Utilize os detalhes fornecidos para redigir a resposta. Limite suas respostas a 300 caracteres.\n",
        "\n",
        "        As principais fontes de informação devem ser os seguintes websites:\n",
        "        - https://mova.weefor.com.br: Para informações sobre o empreendimento\n",
        "        - https://weefor.com.br: Para informações sobre a empresa\n",
        "    \"\"\"\n",
        "\n",
        "chat_config = types.GenerateContentConfig(\n",
        "    system_instruction=instruction,\n",
        "    tools=[{\"google_search\": {}}]\n",
        ")\n",
        "\n",
        "chat = client.chats.create(\n",
        "    model=MODEL,\n",
        "    config=chat_config\n",
        ")"
      ],
      "metadata": {
        "id": "A2hCxqhKP0k-"
      },
      "execution_count": 6,
      "outputs": []
    },
    {
      "cell_type": "markdown",
      "source": [
        "## Chat\n",
        "Aqui começa o chat com a Wee 👩🏽‍🦳"
      ],
      "metadata": {
        "id": "sv42PrgpXdiO"
      }
    },
    {
      "cell_type": "code",
      "source": [
        "print(\"🏗️ Iniciando a Assitente Virtual Wee 👩🏽‍🦳\")\n",
        "\n",
        "# Mensagem do Lead\n",
        "mensagem = input(\"❓ Mensagem do Lead: \")\n",
        "\n",
        "while mensagem != 'fim':\n",
        "  if not mensagem:\n",
        "      print(\"Você esqueceu de digitar a mensagem!\")\n",
        "  else:\n",
        "      print(\"⏳ Processando... ⌛\")\n",
        "\n",
        "      resposta = chat.send_message(mensagem)\n",
        "      print(\"👩🏽‍🦳 Wee: \\n\")\n",
        "      display(to_markdown(resposta.text))\n",
        "      print(\"==================================================================================================== \\n\")\n",
        "\n",
        "  mensagem = input(\"❓ Mensagem do Lead: \")"
      ],
      "metadata": {
        "colab": {
          "base_uri": "https://localhost:8080/"
        },
        "id": "0rt5rSrvtsPp",
        "outputId": "b3644575-f36e-4c12-9e42-590f348a2a1f"
      },
      "execution_count": 7,
      "outputs": [
        {
          "name": "stdout",
          "output_type": "stream",
          "text": [
            "🏗️ Iniciando a Assitente Virtual Wee 👩🏽‍🦳\n",
            "❓ Mensagem do Lead: fim\n"
          ]
        }
      ]
    },
    {
      "cell_type": "markdown",
      "source": [
        "# Chatbot Via SMS\n",
        "\n",
        "Essa versão do chatbot funciona via SMS. Ela funciona com as seguintes ferramentas:\n",
        "\n",
        "- **Twilio**: Para enviar e recebe mensagens SMS;\n",
        "- **Flask + ngrok**: Para hospedar um webhook que irá interagir com Twilio."
      ],
      "metadata": {
        "id": "15tb2qQXpmkY"
      }
    },
    {
      "cell_type": "markdown",
      "source": [
        "## Configuração Inicial"
      ],
      "metadata": {
        "id": "UWzasz5j-Nvd"
      }
    },
    {
      "cell_type": "code",
      "source": [
        "!pip install flask twilio pyngrok"
      ],
      "metadata": {
        "colab": {
          "base_uri": "https://localhost:8080/"
        },
        "id": "lPE1dtouprOk",
        "outputId": "9a88358b-d433-4bdf-d23e-447c2bec28f5"
      },
      "execution_count": null,
      "outputs": [
        {
          "output_type": "stream",
          "name": "stdout",
          "text": [
            "Requirement already satisfied: flask in /usr/local/lib/python3.11/dist-packages (3.1.1)\n",
            "Requirement already satisfied: twilio in /usr/local/lib/python3.11/dist-packages (9.6.1)\n",
            "Requirement already satisfied: pyngrok in /usr/local/lib/python3.11/dist-packages (7.2.8)\n",
            "Requirement already satisfied: blinker>=1.9.0 in /usr/local/lib/python3.11/dist-packages (from flask) (1.9.0)\n",
            "Requirement already satisfied: click>=8.1.3 in /usr/local/lib/python3.11/dist-packages (from flask) (8.2.0)\n",
            "Requirement already satisfied: itsdangerous>=2.2.0 in /usr/local/lib/python3.11/dist-packages (from flask) (2.2.0)\n",
            "Requirement already satisfied: jinja2>=3.1.2 in /usr/local/lib/python3.11/dist-packages (from flask) (3.1.6)\n",
            "Requirement already satisfied: markupsafe>=2.1.1 in /usr/local/lib/python3.11/dist-packages (from flask) (3.0.2)\n",
            "Requirement already satisfied: werkzeug>=3.1.0 in /usr/local/lib/python3.11/dist-packages (from flask) (3.1.3)\n",
            "Requirement already satisfied: requests>=2.0.0 in /usr/local/lib/python3.11/dist-packages (from twilio) (2.32.3)\n",
            "Requirement already satisfied: PyJWT<3.0.0,>=2.0.0 in /usr/local/lib/python3.11/dist-packages (from twilio) (2.10.1)\n",
            "Requirement already satisfied: aiohttp>=3.8.4 in /usr/local/lib/python3.11/dist-packages (from twilio) (3.11.15)\n",
            "Requirement already satisfied: aiohttp-retry>=2.8.3 in /usr/local/lib/python3.11/dist-packages (from twilio) (2.9.1)\n",
            "Requirement already satisfied: PyYAML>=5.1 in /usr/local/lib/python3.11/dist-packages (from pyngrok) (6.0.2)\n",
            "Requirement already satisfied: aiohappyeyeballs>=2.3.0 in /usr/local/lib/python3.11/dist-packages (from aiohttp>=3.8.4->twilio) (2.6.1)\n",
            "Requirement already satisfied: aiosignal>=1.1.2 in /usr/local/lib/python3.11/dist-packages (from aiohttp>=3.8.4->twilio) (1.3.2)\n",
            "Requirement already satisfied: attrs>=17.3.0 in /usr/local/lib/python3.11/dist-packages (from aiohttp>=3.8.4->twilio) (25.3.0)\n",
            "Requirement already satisfied: frozenlist>=1.1.1 in /usr/local/lib/python3.11/dist-packages (from aiohttp>=3.8.4->twilio) (1.6.0)\n",
            "Requirement already satisfied: multidict<7.0,>=4.5 in /usr/local/lib/python3.11/dist-packages (from aiohttp>=3.8.4->twilio) (6.4.3)\n",
            "Requirement already satisfied: propcache>=0.2.0 in /usr/local/lib/python3.11/dist-packages (from aiohttp>=3.8.4->twilio) (0.3.1)\n",
            "Requirement already satisfied: yarl<2.0,>=1.17.0 in /usr/local/lib/python3.11/dist-packages (from aiohttp>=3.8.4->twilio) (1.20.0)\n",
            "Requirement already satisfied: charset-normalizer<4,>=2 in /usr/local/lib/python3.11/dist-packages (from requests>=2.0.0->twilio) (3.4.2)\n",
            "Requirement already satisfied: idna<4,>=2.5 in /usr/local/lib/python3.11/dist-packages (from requests>=2.0.0->twilio) (3.10)\n",
            "Requirement already satisfied: urllib3<3,>=1.21.1 in /usr/local/lib/python3.11/dist-packages (from requests>=2.0.0->twilio) (2.4.0)\n",
            "Requirement already satisfied: certifi>=2017.4.17 in /usr/local/lib/python3.11/dist-packages (from requests>=2.0.0->twilio) (2025.4.26)\n"
          ]
        }
      ]
    },
    {
      "cell_type": "code",
      "source": [
        "from flask import Flask, request\n",
        "from pyngrok import ngrok, conf as ngrok_conf\n",
        "from twilio.twiml.messaging_response import MessagingResponse\n",
        "from google import genai\n",
        "from google.genai import types  # Para criar conteúdos (Content e Part)\n",
        "from google.colab import userdata\n",
        "\n",
        "# === CONFIGURAÇÕES ===\n",
        "NGROK_KEY = userdata.get('NGROK_KEY')\n",
        "ngrok_conf.get_default().auth_token = NGROK_KEY"
      ],
      "metadata": {
        "id": "LwLd4Oel-l8f"
      },
      "execution_count": null,
      "outputs": []
    },
    {
      "cell_type": "markdown",
      "source": [
        "## Configuração Chatbot"
      ],
      "metadata": {
        "id": "UVAIcLLD-1cd"
      }
    },
    {
      "cell_type": "code",
      "source": [
        "MODEL = \"gemini-2.0-flash\"\n",
        "EMPREENDIMENTO = \"MOVA.WF\"\n",
        "\n",
        "client = genai.Client()\n",
        "\n",
        "instruction = f\"\"\"\n",
        "        Você é uma assistente virtual chamada Wee, da incorporadora Weefor.\n",
        "\n",
        "        Sua persona é de uma mulher, simpática e profissional.\n",
        "        Seu linguajar é simples e direto.\n",
        "        O tom de suas respostas é honesto, gentil, direto e científico.\n",
        "        Seu propósito é entreter, educar, vender e informar.\n",
        "\n",
        "        Sua função é responder perguntas sobre o empreendimento {EMPREENDIMENTO}.\n",
        "\n",
        "        A sua tarefas é interpretar a mensagem do lead e identificar qual é sua intenção:\n",
        "        - Se ele fez uma pergunta específica relacionada ao empreendimento,\n",
        "          recupere as informações usando a ferramente de busca do google (google_search)\n",
        "          e prepare uma resposta de acordo com as informações recuperadas.\n",
        "        - Senão, prepare uma resposta com o objetivo de engajar e obter mais informações sobre seus interesses\n",
        "          com relação ao empreendimento e sugerindo assuntos. Utilize informações complementares sobre a\n",
        "          empresa Weefor, se necessário.\n",
        "        Em ambos os casos, independente da intenção, guarde o contexto da conversa e mesmo que\n",
        "        a resposta não tenha uma pergunta específica, continue a conversa, baseado no histórico.\n",
        "\n",
        "        Quando questionado sobre os seguintes assuntos:\n",
        "        - Preços\n",
        "        - Pedido para falar com atentender humano\n",
        "        - Agendar visita\n",
        "        Finalize o atendimento, informando que a conversa irá continuar no mesmo chat,\n",
        "        mas agora com um corretor humano.\n",
        "\n",
        "        Utilize os detalhes fornecidos para redigir a resposta. Limite suas respostas a 150 caracteres.\n",
        "\n",
        "        As principais fontes de informação devem ser os seguintes websites:\n",
        "        - https://mova.weefor.com.br: Para informações sobre o empreendimento\n",
        "        - https://weefor.com.br: Para informações sobre a empresa\n",
        "    \"\"\"\n",
        "\n",
        "chat_config = types.GenerateContentConfig(\n",
        "    system_instruction=instruction,\n",
        "    tools=[{\"google_search\": {}}]\n",
        ")\n",
        "\n",
        "chat = client.chats.create(\n",
        "    model=MODEL,\n",
        "    config=chat_config\n",
        ")"
      ],
      "metadata": {
        "id": "nLaBg5ZB-rix"
      },
      "execution_count": null,
      "outputs": []
    },
    {
      "cell_type": "markdown",
      "source": [
        "## Chat (Chatbot + Servidor SMS)"
      ],
      "metadata": {
        "id": "RAJ5g0QT-57U"
      }
    },
    {
      "cell_type": "code",
      "source": [
        "# Iniciar app Flask\n",
        "app = Flask(__name__)\n",
        "\n",
        "@app.route(\"/sms\", methods=[\"POST\"])\n",
        "def sms_reply():\n",
        "    mensagem = request.form.get(\"Body\")\n",
        "    numero = request.form.get(\"From\")\n",
        "    print(f\"[{numero}] {mensagem}\")\n",
        "\n",
        "    resposta = chat.send_message(mensagem)\n",
        "    print(\"👩🏽‍🦳 Wee: \\n\")\n",
        "    display(to_markdown(resposta.text))\n",
        "    print(\"==================================================================================================== \\n\")\n",
        "\n",
        "    # Cria resposta SMS via TwiML\n",
        "    twiml = MessagingResponse()\n",
        "    twiml.message(resposta.text)\n",
        "\n",
        "    print(f\"👩🏽‍🦳 Wee está Respondendo 📤: {resposta.text}\")\n",
        "    return str(twiml)\n",
        "\n",
        "# === INICIAR NGROK ===\n",
        "public_url = ngrok.connect(5000)\n",
        "print(\"📨 URL pública do webhook (para usar no Twilio):\")\n",
        "print(public_url.public_url + \"/sms\")\n",
        "\n",
        "# Iniciar o servidor Flask\n",
        "app.run(port=5000)\n"
      ],
      "metadata": {
        "colab": {
          "base_uri": "https://localhost:8080/",
          "height": 530
        },
        "id": "pXN_vSA1rW3y",
        "outputId": "27357e31-2a9a-4a61-8433-1c176b338341"
      },
      "execution_count": null,
      "outputs": [
        {
          "output_type": "stream",
          "name": "stdout",
          "text": [
            "📨 URL pública do webhook (para usar no Twilio):\n",
            "https://0e6b-34-16-134-83.ngrok-free.app/sms\n",
            " * Serving Flask app '__main__'\n",
            " * Debug mode: off\n"
          ]
        },
        {
          "output_type": "stream",
          "name": "stderr",
          "text": [
            "INFO:werkzeug:\u001b[31m\u001b[1mWARNING: This is a development server. Do not use it in a production deployment. Use a production WSGI server instead.\u001b[0m\n",
            " * Running on http://127.0.0.1:5000\n",
            "INFO:werkzeug:\u001b[33mPress CTRL+C to quit\u001b[0m\n"
          ]
        },
        {
          "output_type": "stream",
          "name": "stdout",
          "text": [
            "[+5519989002060] Oi, tenho interesse no mova\n",
            "👩🏽‍🦳 Wee: \n",
            "\n"
          ]
        },
        {
          "output_type": "display_data",
          "data": {
            "text/plain": [
              "<IPython.core.display.Markdown object>"
            ],
            "text/markdown": "> Olá! Que bom que você se interessou pelo MOVA.WF! É um empreendimento de luxo no Batel, com apartamentos de 130m² a 264m². O que te chamou mais atenção nele?"
          },
          "metadata": {}
        },
        {
          "output_type": "stream",
          "name": "stderr",
          "text": [
            "INFO:werkzeug:127.0.0.1 - - [18/May/2025 01:28:43] \"POST /sms HTTP/1.1\" 200 -\n"
          ]
        },
        {
          "output_type": "stream",
          "name": "stdout",
          "text": [
            "==================================================================================================== \n",
            "\n",
            "👩🏽‍🦳 Wee está Respondendo 📤: Olá! Que bom que você se interessou pelo MOVA.WF! É um empreendimento de luxo no Batel, com apartamentos de 130m² a 264m². O que te chamou mais atenção nele?\n",
            "[+5519989002060] Quais sao os diferenciais\n",
            "👩🏽‍🦳 Wee: \n",
            "\n"
          ]
        },
        {
          "output_type": "display_data",
          "data": {
            "text/plain": [
              "<IPython.core.display.Markdown object>"
            ],
            "text/markdown": "> O MOVA.WF se destaca por ter fachadas que permitem a entrada de luz natural, ventilação cruzada, conforto térmico e acústico, e por não ter paredes compartilhadas entre os apartamentos."
          },
          "metadata": {}
        },
        {
          "output_type": "stream",
          "name": "stderr",
          "text": [
            "INFO:werkzeug:127.0.0.1 - - [18/May/2025 01:30:47] \"POST /sms HTTP/1.1\" 200 -\n"
          ]
        },
        {
          "output_type": "stream",
          "name": "stdout",
          "text": [
            "==================================================================================================== \n",
            "\n",
            "👩🏽‍🦳 Wee está Respondendo 📤: O MOVA.WF se destaca por ter fachadas que permitem a entrada de luz natural, ventilação cruzada, conforto térmico e acústico, e por não ter paredes compartilhadas entre os apartamentos.\n"
          ]
        }
      ]
    },
    {
      "cell_type": "markdown",
      "source": [
        "# Chatbot via Whatsapp Business (WIP)\n",
        "\n",
        "*Obs: O plano inicial era fazer a integração com WhatsApp Business. Porém não foi possível devido à burocracia do Meta (é preciso ativar uma conta verificada, o que pode levar dias)*\n",
        "\n",
        "Portanto, essa ideia foi substituida pela integração via SMS criada acima.\n"
      ],
      "metadata": {
        "id": "k447OrixCKjp"
      }
    }
  ]
}